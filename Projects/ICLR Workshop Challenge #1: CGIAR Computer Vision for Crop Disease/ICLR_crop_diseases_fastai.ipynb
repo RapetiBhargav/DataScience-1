{
  "nbformat": 4,
  "nbformat_minor": 0,
  "metadata": {
    "colab": {
      "name": "ICLR_crop_diseases_fastai.ipynb",
      "provenance": [],
      "collapsed_sections": [],
      "machine_shape": "hm",
      "include_colab_link": true
    },
    "kernelspec": {
      "name": "python3",
      "display_name": "Python 3"
    },
    "accelerator": "TPU"
  },
  "cells": [
    {
      "cell_type": "markdown",
      "metadata": {
        "id": "view-in-github",
        "colab_type": "text"
      },
      "source": [
        "<a href=\"https://colab.research.google.com/github/shadab-entrepreneur/DataScience/blob/main/Projects/ICLR%20Workshop%20Challenge%20%231%3A%20CGIAR%20Computer%20Vision%20for%20Crop%20Disease/ICLR_crop_diseases_fastai.ipynb\" target=\"_parent\"><img src=\"https://colab.research.google.com/assets/colab-badge.svg\" alt=\"Open In Colab\"/></a>"
      ]
    },
    {
      "cell_type": "code",
      "metadata": {
        "id": "_V6t8KcoK9UP",
        "colab_type": "code",
        "outputId": "c010f2f4-7595-4268-d17e-7910ec0f7b53",
        "colab": {
          "base_uri": "https://localhost:8080/",
          "height": 125
        }
      },
      "source": [
        "! pip install --upgrade torch torchvision"
      ],
      "execution_count": 0,
      "outputs": [
        {
          "output_type": "stream",
          "text": [
            "Requirement already up-to-date: torch in /usr/local/lib/python3.6/dist-packages (1.4.0)\n",
            "Requirement already up-to-date: torchvision in /usr/local/lib/python3.6/dist-packages (0.5.0)\n",
            "Requirement already satisfied, skipping upgrade: six in /usr/local/lib/python3.6/dist-packages (from torchvision) (1.12.0)\n",
            "Requirement already satisfied, skipping upgrade: pillow>=4.1.1 in /usr/local/lib/python3.6/dist-packages (from torchvision) (6.2.2)\n",
            "Requirement already satisfied, skipping upgrade: numpy in /usr/local/lib/python3.6/dist-packages (from torchvision) (1.17.5)\n"
          ],
          "name": "stdout"
        }
      ]
    },
    {
      "cell_type": "code",
      "metadata": {
        "id": "OVBRmPRBXqJa",
        "colab_type": "code",
        "colab": {}
      },
      "source": [
        "import numpy as np\n",
        "import re\n",
        "import pickle\n",
        "import os\n",
        "import glob\n",
        "import pandas as pd\n",
        "from google.colab import drive\n",
        "import cv2\n",
        "from PIL import Image\n",
        "from pathlib import Path\n",
        "import fastai\n",
        "from fastai.vision import *\n",
        "import torch\n",
        "torch.cuda.empty_cache()"
      ],
      "execution_count": 0,
      "outputs": []
    },
    {
      "cell_type": "code",
      "metadata": {
        "id": "DHLb34E0YGKI",
        "colab_type": "code",
        "outputId": "ecb6d22f-65fd-4699-d5f1-e3e9a13020c9",
        "colab": {
          "base_uri": "https://localhost:8080/",
          "height": 34
        }
      },
      "source": [
        "fastai.__version__"
      ],
      "execution_count": 0,
      "outputs": [
        {
          "output_type": "execute_result",
          "data": {
            "text/plain": [
              "'1.0.60'"
            ]
          },
          "metadata": {
            "tags": []
          },
          "execution_count": 3
        }
      ]
    },
    {
      "cell_type": "code",
      "metadata": {
        "id": "P6ijQA3FYJpI",
        "colab_type": "code",
        "outputId": "806801f9-5882-4285-fefb-05967ae84fda",
        "colab": {
          "base_uri": "https://localhost:8080/",
          "height": 54
        }
      },
      "source": [
        "drive.mount('/content/drive')"
      ],
      "execution_count": 0,
      "outputs": [
        {
          "output_type": "stream",
          "text": [
            "Drive already mounted at /content/drive; to attempt to forcibly remount, call drive.mount(\"/content/drive\", force_remount=True).\n"
          ],
          "name": "stdout"
        }
      ]
    },
    {
      "cell_type": "code",
      "metadata": {
        "id": "BFeESNQVhz2h",
        "colab_type": "code",
        "outputId": "4e95a455-c2bf-4a04-fea0-2bd0f2803348",
        "colab": {
          "base_uri": "https://localhost:8080/",
          "height": 34
        }
      },
      "source": [
        "os.listdir()"
      ],
      "execution_count": 0,
      "outputs": [
        {
          "output_type": "execute_result",
          "data": {
            "text/plain": [
              "['.config', 'drive', 'sample_data']"
            ]
          },
          "metadata": {
            "tags": []
          },
          "execution_count": 5
        }
      ]
    },
    {
      "cell_type": "code",
      "metadata": {
        "id": "TmQ8M74GjxI8",
        "colab_type": "code",
        "colab": {}
      },
      "source": [
        "# os.mkdir(\"drive/My Drive/Crop_Disease\")\n",
        "# os.mkdir(\"drive/My Drive/Crop_Disease/test\")\n",
        "# os.mkdir(\"drive/My Drive/Crop_Disease/train\")"
      ],
      "execution_count": 0,
      "outputs": []
    },
    {
      "cell_type": "code",
      "metadata": {
        "id": "nH4qrNOkjnxz",
        "colab_type": "code",
        "colab": {}
      },
      "source": [
        "# with zipfile.ZipFile('drive/My Drive/crop_disease.zip') as file: # opening the zip file using 'zipfile.ZipFile' class\n",
        "#             file.extractall(\"drive/My Drive/Crop_Disease\")"
      ],
      "execution_count": 0,
      "outputs": []
    },
    {
      "cell_type": "code",
      "metadata": {
        "id": "hv0Yp-WLYYEE",
        "colab_type": "code",
        "colab": {}
      },
      "source": [
        "os.chdir('/content/drive/My Drive/Crop_Disease')"
      ],
      "execution_count": 0,
      "outputs": []
    },
    {
      "cell_type": "code",
      "metadata": {
        "id": "9nTdIvjxlGPt",
        "colab_type": "code",
        "outputId": "775017fb-3b4b-41fd-b620-5763a54dc19f",
        "colab": {
          "base_uri": "https://localhost:8080/",
          "height": 34
        }
      },
      "source": [
        "os.listdir()"
      ],
      "execution_count": 0,
      "outputs": [
        {
          "output_type": "execute_result",
          "data": {
            "text/plain": [
              "['__MACOSX', 'test', 'train', 'submission.csv', 'submission1.csv']"
            ]
          },
          "metadata": {
            "tags": []
          },
          "execution_count": 9
        }
      ]
    },
    {
      "cell_type": "code",
      "metadata": {
        "id": "FAFSpJkwkcsF",
        "colab_type": "code",
        "colab": {}
      },
      "source": [
        "# with zipfile.ZipFile('train.zip') as file: # opening the zip file using 'zipfile.ZipFile' class\n",
        "#             file.extractall(\"train\")\n",
        "\n",
        "# with zipfile.ZipFile('test.zip') as file: # opening the zip file using 'zipfile.ZipFile' class\n",
        "#             file.extractall(\"test\")"
      ],
      "execution_count": 0,
      "outputs": []
    },
    {
      "cell_type": "code",
      "metadata": {
        "id": "EmEax1JrEuiI",
        "colab_type": "code",
        "outputId": "8907646e-dbb3-4ffc-8f5a-10d415d43e87",
        "colab": {
          "base_uri": "https://localhost:8080/",
          "height": 158
        }
      },
      "source": [
        "# Fast AI doesn't read in .jfif by default, so we need this.\n",
        "!sudo apt install imagemagick\n",
        "!cd 'test/test'; mogrify -format jpg *.jfif\n",
        "!cd 'train/train/healthy_wheat'; mogrify -format jpg *.jfif  \n",
        "!cd 'train/train/leaf_rust'; mogrify -format jpg *.jfif  \n",
        "!cd 'train/train/stem_rust'; mogrify -format jpg *.jfif"
      ],
      "execution_count": 0,
      "outputs": [
        {
          "output_type": "stream",
          "text": [
            "Reading package lists... Done\n",
            "Building dependency tree       \n",
            "Reading state information... Done\n",
            "imagemagick is already the newest version (8:6.9.7.4+dfsg-16ubuntu6.8).\n",
            "The following package was automatically installed and is no longer required:\n",
            "  libnvidia-common-430\n",
            "Use 'sudo apt autoremove' to remove it.\n",
            "0 upgraded, 0 newly installed, 0 to remove and 25 not upgraded.\n"
          ],
          "name": "stdout"
        }
      ]
    },
    {
      "cell_type": "code",
      "metadata": {
        "id": "Q1yWKytYY-L-",
        "colab_type": "code",
        "colab": {}
      },
      "source": [
        "healthy_wheat=glob.glob('train/train/healthy_wheat/*.*')\n",
        "leaf_rust=glob.glob('train/train/leaf_rust/*.*')\n",
        "stem_rust=glob.glob('train/train/stem_rust/*.*')"
      ],
      "execution_count": 0,
      "outputs": []
    },
    {
      "cell_type": "code",
      "metadata": {
        "id": "WKlUFz7MbiSI",
        "colab_type": "code",
        "outputId": "f8f40456-7b70-4568-8f32-77879c8ab783",
        "colab": {
          "base_uri": "https://localhost:8080/",
          "height": 34
        }
      },
      "source": [
        "img_path=[]\n",
        "img_path=img_path+healthy_wheat+leaf_rust+stem_rust\n",
        "df=pd.DataFrame({'img_path':img_path})\n",
        "df.shape"
      ],
      "execution_count": 0,
      "outputs": [
        {
          "output_type": "execute_result",
          "data": {
            "text/plain": [
              "(1189, 1)"
            ]
          },
          "metadata": {
            "tags": []
          },
          "execution_count": 13
        }
      ]
    },
    {
      "cell_type": "code",
      "metadata": {
        "id": "CrqxK_Hifj83",
        "colab_type": "code",
        "outputId": "c3608ba4-f034-49d2-df29-485ac3570dcb",
        "colab": {
          "base_uri": "https://localhost:8080/",
          "height": 203
        }
      },
      "source": [
        "df.head()"
      ],
      "execution_count": 0,
      "outputs": [
        {
          "output_type": "execute_result",
          "data": {
            "text/html": [
              "<div>\n",
              "<style scoped>\n",
              "    .dataframe tbody tr th:only-of-type {\n",
              "        vertical-align: middle;\n",
              "    }\n",
              "\n",
              "    .dataframe tbody tr th {\n",
              "        vertical-align: top;\n",
              "    }\n",
              "\n",
              "    .dataframe thead th {\n",
              "        text-align: right;\n",
              "    }\n",
              "</style>\n",
              "<table border=\"1\" class=\"dataframe\">\n",
              "  <thead>\n",
              "    <tr style=\"text-align: right;\">\n",
              "      <th></th>\n",
              "      <th>img_path</th>\n",
              "    </tr>\n",
              "  </thead>\n",
              "  <tbody>\n",
              "    <tr>\n",
              "      <th>0</th>\n",
              "      <td>train/train/healthy_wheat/2KS7HG.jpg</td>\n",
              "    </tr>\n",
              "    <tr>\n",
              "      <th>1</th>\n",
              "      <td>train/train/healthy_wheat/6T5756.jfif</td>\n",
              "    </tr>\n",
              "    <tr>\n",
              "      <th>2</th>\n",
              "      <td>train/train/healthy_wheat/E5HXTR.jpg</td>\n",
              "    </tr>\n",
              "    <tr>\n",
              "      <th>3</th>\n",
              "      <td>train/train/healthy_wheat/R1GKEP.jfif</td>\n",
              "    </tr>\n",
              "    <tr>\n",
              "      <th>4</th>\n",
              "      <td>train/train/healthy_wheat/3OKS1S.jfif</td>\n",
              "    </tr>\n",
              "  </tbody>\n",
              "</table>\n",
              "</div>"
            ],
            "text/plain": [
              "                                img_path\n",
              "0   train/train/healthy_wheat/2KS7HG.jpg\n",
              "1  train/train/healthy_wheat/6T5756.jfif\n",
              "2   train/train/healthy_wheat/E5HXTR.jpg\n",
              "3  train/train/healthy_wheat/R1GKEP.jfif\n",
              "4  train/train/healthy_wheat/3OKS1S.jfif"
            ]
          },
          "metadata": {
            "tags": []
          },
          "execution_count": 14
        }
      ]
    },
    {
      "cell_type": "code",
      "metadata": {
        "id": "Hdtm4xPyeWB5",
        "colab_type": "code",
        "colab": {}
      },
      "source": [
        "# df['img_path'] = df['img_path'].apply(lambda x: re.sub(\"/\",\"\",x,-1))\n",
        "# df.head()"
      ],
      "execution_count": 0,
      "outputs": []
    },
    {
      "cell_type": "code",
      "metadata": {
        "id": "BzmclRLb63Vz",
        "colab_type": "code",
        "outputId": "8ffc0217-461d-4d51-9899-b783fe4a6413",
        "colab": {
          "base_uri": "https://localhost:8080/",
          "height": 203
        }
      },
      "source": [
        "df['disease_class'] = df['img_path'].apply(lambda x: x.split(\"/\")[2])\n",
        "df['ext'] = df['img_path'].apply(lambda x: x.split(\".\")[-1])\n",
        "df.head()"
      ],
      "execution_count": 0,
      "outputs": [
        {
          "output_type": "execute_result",
          "data": {
            "text/html": [
              "<div>\n",
              "<style scoped>\n",
              "    .dataframe tbody tr th:only-of-type {\n",
              "        vertical-align: middle;\n",
              "    }\n",
              "\n",
              "    .dataframe tbody tr th {\n",
              "        vertical-align: top;\n",
              "    }\n",
              "\n",
              "    .dataframe thead th {\n",
              "        text-align: right;\n",
              "    }\n",
              "</style>\n",
              "<table border=\"1\" class=\"dataframe\">\n",
              "  <thead>\n",
              "    <tr style=\"text-align: right;\">\n",
              "      <th></th>\n",
              "      <th>img_path</th>\n",
              "      <th>disease_class</th>\n",
              "      <th>ext</th>\n",
              "    </tr>\n",
              "  </thead>\n",
              "  <tbody>\n",
              "    <tr>\n",
              "      <th>0</th>\n",
              "      <td>train/train/healthy_wheat/2KS7HG.jpg</td>\n",
              "      <td>healthy_wheat</td>\n",
              "      <td>jpg</td>\n",
              "    </tr>\n",
              "    <tr>\n",
              "      <th>1</th>\n",
              "      <td>train/train/healthy_wheat/6T5756.jfif</td>\n",
              "      <td>healthy_wheat</td>\n",
              "      <td>jfif</td>\n",
              "    </tr>\n",
              "    <tr>\n",
              "      <th>2</th>\n",
              "      <td>train/train/healthy_wheat/E5HXTR.jpg</td>\n",
              "      <td>healthy_wheat</td>\n",
              "      <td>jpg</td>\n",
              "    </tr>\n",
              "    <tr>\n",
              "      <th>3</th>\n",
              "      <td>train/train/healthy_wheat/R1GKEP.jfif</td>\n",
              "      <td>healthy_wheat</td>\n",
              "      <td>jfif</td>\n",
              "    </tr>\n",
              "    <tr>\n",
              "      <th>4</th>\n",
              "      <td>train/train/healthy_wheat/3OKS1S.jfif</td>\n",
              "      <td>healthy_wheat</td>\n",
              "      <td>jfif</td>\n",
              "    </tr>\n",
              "  </tbody>\n",
              "</table>\n",
              "</div>"
            ],
            "text/plain": [
              "                                img_path  disease_class   ext\n",
              "0   train/train/healthy_wheat/2KS7HG.jpg  healthy_wheat   jpg\n",
              "1  train/train/healthy_wheat/6T5756.jfif  healthy_wheat  jfif\n",
              "2   train/train/healthy_wheat/E5HXTR.jpg  healthy_wheat   jpg\n",
              "3  train/train/healthy_wheat/R1GKEP.jfif  healthy_wheat  jfif\n",
              "4  train/train/healthy_wheat/3OKS1S.jfif  healthy_wheat  jfif"
            ]
          },
          "metadata": {
            "tags": []
          },
          "execution_count": 16
        }
      ]
    },
    {
      "cell_type": "code",
      "metadata": {
        "id": "hEAHGRZGHq2M",
        "colab_type": "code",
        "outputId": "d35838ff-372d-44d5-8c09-0ba89810e649",
        "colab": {
          "base_uri": "https://localhost:8080/",
          "height": 203
        }
      },
      "source": [
        "df=df[df.ext!='jfif']\n",
        "df.drop('ext',axis=1,inplace=True)\n",
        "df.head()"
      ],
      "execution_count": 0,
      "outputs": [
        {
          "output_type": "execute_result",
          "data": {
            "text/html": [
              "<div>\n",
              "<style scoped>\n",
              "    .dataframe tbody tr th:only-of-type {\n",
              "        vertical-align: middle;\n",
              "    }\n",
              "\n",
              "    .dataframe tbody tr th {\n",
              "        vertical-align: top;\n",
              "    }\n",
              "\n",
              "    .dataframe thead th {\n",
              "        text-align: right;\n",
              "    }\n",
              "</style>\n",
              "<table border=\"1\" class=\"dataframe\">\n",
              "  <thead>\n",
              "    <tr style=\"text-align: right;\">\n",
              "      <th></th>\n",
              "      <th>img_path</th>\n",
              "      <th>disease_class</th>\n",
              "    </tr>\n",
              "  </thead>\n",
              "  <tbody>\n",
              "    <tr>\n",
              "      <th>0</th>\n",
              "      <td>train/train/healthy_wheat/2KS7HG.jpg</td>\n",
              "      <td>healthy_wheat</td>\n",
              "    </tr>\n",
              "    <tr>\n",
              "      <th>2</th>\n",
              "      <td>train/train/healthy_wheat/E5HXTR.jpg</td>\n",
              "      <td>healthy_wheat</td>\n",
              "    </tr>\n",
              "    <tr>\n",
              "      <th>9</th>\n",
              "      <td>train/train/healthy_wheat/UOZCDJ.jpg</td>\n",
              "      <td>healthy_wheat</td>\n",
              "    </tr>\n",
              "    <tr>\n",
              "      <th>12</th>\n",
              "      <td>train/train/healthy_wheat/QJI3IC.jpg</td>\n",
              "      <td>healthy_wheat</td>\n",
              "    </tr>\n",
              "    <tr>\n",
              "      <th>16</th>\n",
              "      <td>train/train/healthy_wheat/I9JOL9.jpg</td>\n",
              "      <td>healthy_wheat</td>\n",
              "    </tr>\n",
              "  </tbody>\n",
              "</table>\n",
              "</div>"
            ],
            "text/plain": [
              "                                img_path  disease_class\n",
              "0   train/train/healthy_wheat/2KS7HG.jpg  healthy_wheat\n",
              "2   train/train/healthy_wheat/E5HXTR.jpg  healthy_wheat\n",
              "9   train/train/healthy_wheat/UOZCDJ.jpg  healthy_wheat\n",
              "12  train/train/healthy_wheat/QJI3IC.jpg  healthy_wheat\n",
              "16  train/train/healthy_wheat/I9JOL9.jpg  healthy_wheat"
            ]
          },
          "metadata": {
            "tags": []
          },
          "execution_count": 17
        }
      ]
    },
    {
      "cell_type": "code",
      "metadata": {
        "id": "rSm-2XzqHRFw",
        "colab_type": "code",
        "outputId": "5e9853fb-96bf-4d83-f0ef-7561b678450a",
        "colab": {
          "base_uri": "https://localhost:8080/",
          "height": 34
        }
      },
      "source": [
        "df.shape"
      ],
      "execution_count": 0,
      "outputs": [
        {
          "output_type": "execute_result",
          "data": {
            "text/plain": [
              "(876, 2)"
            ]
          },
          "metadata": {
            "tags": []
          },
          "execution_count": 18
        }
      ]
    },
    {
      "cell_type": "code",
      "metadata": {
        "id": "CEdkUvLkJuyX",
        "colab_type": "code",
        "colab": {}
      },
      "source": [
        "df.reset_index(inplace=True)"
      ],
      "execution_count": 0,
      "outputs": []
    },
    {
      "cell_type": "code",
      "metadata": {
        "id": "QLT3e_EiJe0o",
        "colab_type": "code",
        "colab": {}
      },
      "source": [
        "df.drop('index',axis=1,inplace=True)"
      ],
      "execution_count": 0,
      "outputs": []
    },
    {
      "cell_type": "code",
      "metadata": {
        "id": "qc73TvEvL6z4",
        "colab_type": "code",
        "outputId": "e95a0261-9ad8-4ece-df43-a0addbc40db4",
        "colab": {
          "base_uri": "https://localhost:8080/",
          "height": 203
        }
      },
      "source": [
        "df.head()"
      ],
      "execution_count": 0,
      "outputs": [
        {
          "output_type": "execute_result",
          "data": {
            "text/html": [
              "<div>\n",
              "<style scoped>\n",
              "    .dataframe tbody tr th:only-of-type {\n",
              "        vertical-align: middle;\n",
              "    }\n",
              "\n",
              "    .dataframe tbody tr th {\n",
              "        vertical-align: top;\n",
              "    }\n",
              "\n",
              "    .dataframe thead th {\n",
              "        text-align: right;\n",
              "    }\n",
              "</style>\n",
              "<table border=\"1\" class=\"dataframe\">\n",
              "  <thead>\n",
              "    <tr style=\"text-align: right;\">\n",
              "      <th></th>\n",
              "      <th>img_path</th>\n",
              "      <th>disease_class</th>\n",
              "    </tr>\n",
              "  </thead>\n",
              "  <tbody>\n",
              "    <tr>\n",
              "      <th>0</th>\n",
              "      <td>train/train/healthy_wheat/2KS7HG.jpg</td>\n",
              "      <td>healthy_wheat</td>\n",
              "    </tr>\n",
              "    <tr>\n",
              "      <th>1</th>\n",
              "      <td>train/train/healthy_wheat/E5HXTR.jpg</td>\n",
              "      <td>healthy_wheat</td>\n",
              "    </tr>\n",
              "    <tr>\n",
              "      <th>2</th>\n",
              "      <td>train/train/healthy_wheat/UOZCDJ.jpg</td>\n",
              "      <td>healthy_wheat</td>\n",
              "    </tr>\n",
              "    <tr>\n",
              "      <th>3</th>\n",
              "      <td>train/train/healthy_wheat/QJI3IC.jpg</td>\n",
              "      <td>healthy_wheat</td>\n",
              "    </tr>\n",
              "    <tr>\n",
              "      <th>4</th>\n",
              "      <td>train/train/healthy_wheat/I9JOL9.jpg</td>\n",
              "      <td>healthy_wheat</td>\n",
              "    </tr>\n",
              "  </tbody>\n",
              "</table>\n",
              "</div>"
            ],
            "text/plain": [
              "                               img_path  disease_class\n",
              "0  train/train/healthy_wheat/2KS7HG.jpg  healthy_wheat\n",
              "1  train/train/healthy_wheat/E5HXTR.jpg  healthy_wheat\n",
              "2  train/train/healthy_wheat/UOZCDJ.jpg  healthy_wheat\n",
              "3  train/train/healthy_wheat/QJI3IC.jpg  healthy_wheat\n",
              "4  train/train/healthy_wheat/I9JOL9.jpg  healthy_wheat"
            ]
          },
          "metadata": {
            "tags": []
          },
          "execution_count": 21
        }
      ]
    },
    {
      "cell_type": "code",
      "metadata": {
        "id": "I8KEGALShGzZ",
        "colab_type": "code",
        "outputId": "f4f45bda-8475-4265-ce24-833254d860f8",
        "colab": {
          "base_uri": "https://localhost:8080/",
          "height": 34
        }
      },
      "source": [
        "test_img_path=glob.glob('test/test/*.*')\n",
        "test_df=pd.DataFrame({'test_img_path':test_img_path})\n",
        "test_df['ext'] = test_df['test_img_path'].apply(lambda x: x.split(\".\")[-1])\n",
        "test_df=test_df[test_df.ext!='jfif']\n",
        "test_df.shape"
      ],
      "execution_count": 0,
      "outputs": [
        {
          "output_type": "execute_result",
          "data": {
            "text/plain": [
              "(610, 2)"
            ]
          },
          "metadata": {
            "tags": []
          },
          "execution_count": 22
        }
      ]
    },
    {
      "cell_type": "code",
      "metadata": {
        "id": "GbPBQAkyqaKW",
        "colab_type": "code",
        "outputId": "54d21909-7664-4dfb-ea53-1a7188439f6f",
        "colab": {
          "base_uri": "https://localhost:8080/",
          "height": 203
        }
      },
      "source": [
        "test_df.head()"
      ],
      "execution_count": 0,
      "outputs": [
        {
          "output_type": "execute_result",
          "data": {
            "text/html": [
              "<div>\n",
              "<style scoped>\n",
              "    .dataframe tbody tr th:only-of-type {\n",
              "        vertical-align: middle;\n",
              "    }\n",
              "\n",
              "    .dataframe tbody tr th {\n",
              "        vertical-align: top;\n",
              "    }\n",
              "\n",
              "    .dataframe thead th {\n",
              "        text-align: right;\n",
              "    }\n",
              "</style>\n",
              "<table border=\"1\" class=\"dataframe\">\n",
              "  <thead>\n",
              "    <tr style=\"text-align: right;\">\n",
              "      <th></th>\n",
              "      <th>test_img_path</th>\n",
              "      <th>ext</th>\n",
              "    </tr>\n",
              "  </thead>\n",
              "  <tbody>\n",
              "    <tr>\n",
              "      <th>1</th>\n",
              "      <td>test/test/NGZ2X2.JPG</td>\n",
              "      <td>JPG</td>\n",
              "    </tr>\n",
              "    <tr>\n",
              "      <th>2</th>\n",
              "      <td>test/test/AD54KD.jpg</td>\n",
              "      <td>jpg</td>\n",
              "    </tr>\n",
              "    <tr>\n",
              "      <th>3</th>\n",
              "      <td>test/test/3UZ447.JPG</td>\n",
              "      <td>JPG</td>\n",
              "    </tr>\n",
              "    <tr>\n",
              "      <th>6</th>\n",
              "      <td>test/test/NN5F6I.jpg</td>\n",
              "      <td>jpg</td>\n",
              "    </tr>\n",
              "    <tr>\n",
              "      <th>8</th>\n",
              "      <td>test/test/LE4WVZ.JPG</td>\n",
              "      <td>JPG</td>\n",
              "    </tr>\n",
              "  </tbody>\n",
              "</table>\n",
              "</div>"
            ],
            "text/plain": [
              "          test_img_path  ext\n",
              "1  test/test/NGZ2X2.JPG  JPG\n",
              "2  test/test/AD54KD.jpg  jpg\n",
              "3  test/test/3UZ447.JPG  JPG\n",
              "6  test/test/NN5F6I.jpg  jpg\n",
              "8  test/test/LE4WVZ.JPG  JPG"
            ]
          },
          "metadata": {
            "tags": []
          },
          "execution_count": 23
        }
      ]
    },
    {
      "cell_type": "code",
      "metadata": {
        "id": "Hf2lR4f_IrQy",
        "colab_type": "code",
        "outputId": "57b3605b-7e3c-451c-82b7-83370922ad50",
        "colab": {
          "base_uri": "https://localhost:8080/",
          "height": 203
        }
      },
      "source": [
        "# test_df['test_img_path'] = test_df['test_img_path'].apply(lambda x: re.sub(\"/\",\"\",x,1))\n",
        "test_df.drop('ext',axis=1,inplace=True)\n",
        "test_df.reset_index(inplace=True)\n",
        "test_df.drop('index',axis=1,inplace=True)\n",
        "test_df.head()"
      ],
      "execution_count": 0,
      "outputs": [
        {
          "output_type": "execute_result",
          "data": {
            "text/html": [
              "<div>\n",
              "<style scoped>\n",
              "    .dataframe tbody tr th:only-of-type {\n",
              "        vertical-align: middle;\n",
              "    }\n",
              "\n",
              "    .dataframe tbody tr th {\n",
              "        vertical-align: top;\n",
              "    }\n",
              "\n",
              "    .dataframe thead th {\n",
              "        text-align: right;\n",
              "    }\n",
              "</style>\n",
              "<table border=\"1\" class=\"dataframe\">\n",
              "  <thead>\n",
              "    <tr style=\"text-align: right;\">\n",
              "      <th></th>\n",
              "      <th>test_img_path</th>\n",
              "    </tr>\n",
              "  </thead>\n",
              "  <tbody>\n",
              "    <tr>\n",
              "      <th>0</th>\n",
              "      <td>test/test/NGZ2X2.JPG</td>\n",
              "    </tr>\n",
              "    <tr>\n",
              "      <th>1</th>\n",
              "      <td>test/test/AD54KD.jpg</td>\n",
              "    </tr>\n",
              "    <tr>\n",
              "      <th>2</th>\n",
              "      <td>test/test/3UZ447.JPG</td>\n",
              "    </tr>\n",
              "    <tr>\n",
              "      <th>3</th>\n",
              "      <td>test/test/NN5F6I.jpg</td>\n",
              "    </tr>\n",
              "    <tr>\n",
              "      <th>4</th>\n",
              "      <td>test/test/LE4WVZ.JPG</td>\n",
              "    </tr>\n",
              "  </tbody>\n",
              "</table>\n",
              "</div>"
            ],
            "text/plain": [
              "          test_img_path\n",
              "0  test/test/NGZ2X2.JPG\n",
              "1  test/test/AD54KD.jpg\n",
              "2  test/test/3UZ447.JPG\n",
              "3  test/test/NN5F6I.jpg\n",
              "4  test/test/LE4WVZ.JPG"
            ]
          },
          "metadata": {
            "tags": []
          },
          "execution_count": 24
        }
      ]
    },
    {
      "cell_type": "code",
      "metadata": {
        "id": "7T_cz0dPgKpp",
        "colab_type": "code",
        "outputId": "7bdd6b1b-c50f-44bd-95c6-df52a1081464",
        "colab": {
          "base_uri": "https://localhost:8080/",
          "height": 87
        }
      },
      "source": [
        "df['disease_class'].value_counts()"
      ],
      "execution_count": 0,
      "outputs": [
        {
          "output_type": "execute_result",
          "data": {
            "text/plain": [
              "stem_rust        376\n",
              "leaf_rust        358\n",
              "healthy_wheat    142\n",
              "Name: disease_class, dtype: int64"
            ]
          },
          "metadata": {
            "tags": []
          },
          "execution_count": 25
        }
      ]
    },
    {
      "cell_type": "code",
      "metadata": {
        "id": "QcAqjT1JksJi",
        "colab_type": "code",
        "colab": {}
      },
      "source": [
        "def create_databunch(valid_idx):\n",
        "  test = ImageList.from_df(test_df,path='')\n",
        "  data = (ImageList.from_df(df, path='')\n",
        "              .split_by_idx(valid_idx)\n",
        "              .label_from_df(cols='disease_class')\n",
        "              .add_test(test)\n",
        "              .transform(get_transforms(flip_vert=True, max_rotate=20.0), size=128)\n",
        "              .databunch(path='.', bs=32)\n",
        "              .normalize(imagenet_stats)\n",
        "            )\n",
        "  return data"
      ],
      "execution_count": 0,
      "outputs": []
    },
    {
      "cell_type": "code",
      "metadata": {
        "id": "bMcJZ8LZEnmo",
        "colab_type": "code",
        "colab": {}
      },
      "source": [
        "model_densenet = models.densenet201"
      ],
      "execution_count": 0,
      "outputs": []
    },
    {
      "cell_type": "code",
      "metadata": {
        "id": "sBcbiLFv-_3R",
        "colab_type": "code",
        "outputId": "b5543f5b-4794-4432-816c-736ccc3a820b",
        "colab": {
          "base_uri": "https://localhost:8080/",
          "height": 1000
        }
      },
      "source": [
        "from sklearn.model_selection import KFold\n",
        "kf = KFold(n_splits=3,shuffle=True,random_state=123)\n",
        "acc_val=[]\n",
        "for train_idx, valid_idx in kf.split(df):\n",
        "      data = create_databunch(valid_idx)\n",
        "      learn = cnn_learner(data, model_densenet, metrics=[accuracy])\n",
        "      learn.fit_one_cycle(2, 1e-3)\n",
        "      learn.unfreeze()\n",
        "      learn.fit_one_cycle(10, slice(1e-4,1e-2))\n",
        "      loss,acc=learn.validate()\n",
        "      acc_val.append(acc.numpy())\n",
        "\n",
        "print(\"The validation accuracy is: \",np.mean(acc_val))"
      ],
      "execution_count": 40,
      "outputs": [
        {
          "output_type": "display_data",
          "data": {
            "text/html": [
              "<table border=\"1\" class=\"dataframe\">\n",
              "  <thead>\n",
              "    <tr style=\"text-align: left;\">\n",
              "      <th>epoch</th>\n",
              "      <th>train_loss</th>\n",
              "      <th>valid_loss</th>\n",
              "      <th>accuracy</th>\n",
              "      <th>time</th>\n",
              "    </tr>\n",
              "  </thead>\n",
              "  <tbody>\n",
              "    <tr>\n",
              "      <td>0</td>\n",
              "      <td>1.505163</td>\n",
              "      <td>0.842372</td>\n",
              "      <td>0.681507</td>\n",
              "      <td>01:35</td>\n",
              "    </tr>\n",
              "    <tr>\n",
              "      <td>1</td>\n",
              "      <td>1.231134</td>\n",
              "      <td>0.748997</td>\n",
              "      <td>0.705479</td>\n",
              "      <td>01:38</td>\n",
              "    </tr>\n",
              "  </tbody>\n",
              "</table>"
            ],
            "text/plain": [
              "<IPython.core.display.HTML object>"
            ]
          },
          "metadata": {
            "tags": []
          }
        },
        {
          "output_type": "display_data",
          "data": {
            "text/html": [
              "<table border=\"1\" class=\"dataframe\">\n",
              "  <thead>\n",
              "    <tr style=\"text-align: left;\">\n",
              "      <th>epoch</th>\n",
              "      <th>train_loss</th>\n",
              "      <th>valid_loss</th>\n",
              "      <th>accuracy</th>\n",
              "      <th>time</th>\n",
              "    </tr>\n",
              "  </thead>\n",
              "  <tbody>\n",
              "    <tr>\n",
              "      <td>0</td>\n",
              "      <td>1.030407</td>\n",
              "      <td>0.796715</td>\n",
              "      <td>0.729452</td>\n",
              "      <td>01:51</td>\n",
              "    </tr>\n",
              "    <tr>\n",
              "      <td>1</td>\n",
              "      <td>0.966965</td>\n",
              "      <td>1.153291</td>\n",
              "      <td>0.681507</td>\n",
              "      <td>01:58</td>\n",
              "    </tr>\n",
              "    <tr>\n",
              "      <td>2</td>\n",
              "      <td>0.902816</td>\n",
              "      <td>0.980250</td>\n",
              "      <td>0.743151</td>\n",
              "      <td>01:55</td>\n",
              "    </tr>\n",
              "    <tr>\n",
              "      <td>3</td>\n",
              "      <td>0.858118</td>\n",
              "      <td>0.471841</td>\n",
              "      <td>0.852740</td>\n",
              "      <td>01:55</td>\n",
              "    </tr>\n",
              "    <tr>\n",
              "      <td>4</td>\n",
              "      <td>0.774111</td>\n",
              "      <td>0.474488</td>\n",
              "      <td>0.832192</td>\n",
              "      <td>01:57</td>\n",
              "    </tr>\n",
              "    <tr>\n",
              "      <td>5</td>\n",
              "      <td>0.680230</td>\n",
              "      <td>2.781417</td>\n",
              "      <td>0.763699</td>\n",
              "      <td>01:56</td>\n",
              "    </tr>\n",
              "    <tr>\n",
              "      <td>6</td>\n",
              "      <td>0.663839</td>\n",
              "      <td>0.693885</td>\n",
              "      <td>0.811644</td>\n",
              "      <td>01:53</td>\n",
              "    </tr>\n",
              "    <tr>\n",
              "      <td>7</td>\n",
              "      <td>0.595726</td>\n",
              "      <td>0.360971</td>\n",
              "      <td>0.876712</td>\n",
              "      <td>01:56</td>\n",
              "    </tr>\n",
              "    <tr>\n",
              "      <td>8</td>\n",
              "      <td>0.517920</td>\n",
              "      <td>0.307746</td>\n",
              "      <td>0.890411</td>\n",
              "      <td>01:55</td>\n",
              "    </tr>\n",
              "    <tr>\n",
              "      <td>9</td>\n",
              "      <td>0.438606</td>\n",
              "      <td>0.284756</td>\n",
              "      <td>0.893836</td>\n",
              "      <td>01:54</td>\n",
              "    </tr>\n",
              "  </tbody>\n",
              "</table>"
            ],
            "text/plain": [
              "<IPython.core.display.HTML object>"
            ]
          },
          "metadata": {
            "tags": []
          }
        },
        {
          "output_type": "display_data",
          "data": {
            "text/html": [
              ""
            ],
            "text/plain": [
              "<IPython.core.display.HTML object>"
            ]
          },
          "metadata": {
            "tags": []
          }
        },
        {
          "output_type": "display_data",
          "data": {
            "text/html": [
              "<table border=\"1\" class=\"dataframe\">\n",
              "  <thead>\n",
              "    <tr style=\"text-align: left;\">\n",
              "      <th>epoch</th>\n",
              "      <th>train_loss</th>\n",
              "      <th>valid_loss</th>\n",
              "      <th>accuracy</th>\n",
              "      <th>time</th>\n",
              "    </tr>\n",
              "  </thead>\n",
              "  <tbody>\n",
              "    <tr>\n",
              "      <td>0</td>\n",
              "      <td>1.686260</td>\n",
              "      <td>0.755749</td>\n",
              "      <td>0.719178</td>\n",
              "      <td>01:36</td>\n",
              "    </tr>\n",
              "    <tr>\n",
              "      <td>1</td>\n",
              "      <td>1.302094</td>\n",
              "      <td>0.726640</td>\n",
              "      <td>0.750000</td>\n",
              "      <td>01:38</td>\n",
              "    </tr>\n",
              "  </tbody>\n",
              "</table>"
            ],
            "text/plain": [
              "<IPython.core.display.HTML object>"
            ]
          },
          "metadata": {
            "tags": []
          }
        },
        {
          "output_type": "display_data",
          "data": {
            "text/html": [
              "<table border=\"1\" class=\"dataframe\">\n",
              "  <thead>\n",
              "    <tr style=\"text-align: left;\">\n",
              "      <th>epoch</th>\n",
              "      <th>train_loss</th>\n",
              "      <th>valid_loss</th>\n",
              "      <th>accuracy</th>\n",
              "      <th>time</th>\n",
              "    </tr>\n",
              "  </thead>\n",
              "  <tbody>\n",
              "    <tr>\n",
              "      <td>0</td>\n",
              "      <td>1.027032</td>\n",
              "      <td>1.000369</td>\n",
              "      <td>0.750000</td>\n",
              "      <td>01:55</td>\n",
              "    </tr>\n",
              "    <tr>\n",
              "      <td>1</td>\n",
              "      <td>1.020555</td>\n",
              "      <td>1.170388</td>\n",
              "      <td>0.732877</td>\n",
              "      <td>01:55</td>\n",
              "    </tr>\n",
              "    <tr>\n",
              "      <td>2</td>\n",
              "      <td>0.976005</td>\n",
              "      <td>1.674768</td>\n",
              "      <td>0.671233</td>\n",
              "      <td>01:54</td>\n",
              "    </tr>\n",
              "    <tr>\n",
              "      <td>3</td>\n",
              "      <td>0.854712</td>\n",
              "      <td>0.860845</td>\n",
              "      <td>0.787671</td>\n",
              "      <td>01:53</td>\n",
              "    </tr>\n",
              "    <tr>\n",
              "      <td>4</td>\n",
              "      <td>0.769494</td>\n",
              "      <td>0.587097</td>\n",
              "      <td>0.825342</td>\n",
              "      <td>01:56</td>\n",
              "    </tr>\n",
              "    <tr>\n",
              "      <td>5</td>\n",
              "      <td>0.689539</td>\n",
              "      <td>0.689372</td>\n",
              "      <td>0.773973</td>\n",
              "      <td>01:52</td>\n",
              "    </tr>\n",
              "    <tr>\n",
              "      <td>6</td>\n",
              "      <td>0.561540</td>\n",
              "      <td>0.529100</td>\n",
              "      <td>0.839041</td>\n",
              "      <td>01:55</td>\n",
              "    </tr>\n",
              "    <tr>\n",
              "      <td>7</td>\n",
              "      <td>0.473063</td>\n",
              "      <td>0.524675</td>\n",
              "      <td>0.839041</td>\n",
              "      <td>01:56</td>\n",
              "    </tr>\n",
              "    <tr>\n",
              "      <td>8</td>\n",
              "      <td>0.383124</td>\n",
              "      <td>0.477837</td>\n",
              "      <td>0.863014</td>\n",
              "      <td>01:53</td>\n",
              "    </tr>\n",
              "    <tr>\n",
              "      <td>9</td>\n",
              "      <td>0.321763</td>\n",
              "      <td>0.471473</td>\n",
              "      <td>0.863014</td>\n",
              "      <td>01:56</td>\n",
              "    </tr>\n",
              "  </tbody>\n",
              "</table>"
            ],
            "text/plain": [
              "<IPython.core.display.HTML object>"
            ]
          },
          "metadata": {
            "tags": []
          }
        },
        {
          "output_type": "display_data",
          "data": {
            "text/html": [
              ""
            ],
            "text/plain": [
              "<IPython.core.display.HTML object>"
            ]
          },
          "metadata": {
            "tags": []
          }
        },
        {
          "output_type": "display_data",
          "data": {
            "text/html": [
              "<table border=\"1\" class=\"dataframe\">\n",
              "  <thead>\n",
              "    <tr style=\"text-align: left;\">\n",
              "      <th>epoch</th>\n",
              "      <th>train_loss</th>\n",
              "      <th>valid_loss</th>\n",
              "      <th>accuracy</th>\n",
              "      <th>time</th>\n",
              "    </tr>\n",
              "  </thead>\n",
              "  <tbody>\n",
              "    <tr>\n",
              "      <td>0</td>\n",
              "      <td>1.542285</td>\n",
              "      <td>0.970496</td>\n",
              "      <td>0.681507</td>\n",
              "      <td>01:39</td>\n",
              "    </tr>\n",
              "    <tr>\n",
              "      <td>1</td>\n",
              "      <td>1.255145</td>\n",
              "      <td>0.793003</td>\n",
              "      <td>0.732877</td>\n",
              "      <td>01:35</td>\n",
              "    </tr>\n",
              "  </tbody>\n",
              "</table>"
            ],
            "text/plain": [
              "<IPython.core.display.HTML object>"
            ]
          },
          "metadata": {
            "tags": []
          }
        },
        {
          "output_type": "display_data",
          "data": {
            "text/html": [
              "<table border=\"1\" class=\"dataframe\">\n",
              "  <thead>\n",
              "    <tr style=\"text-align: left;\">\n",
              "      <th>epoch</th>\n",
              "      <th>train_loss</th>\n",
              "      <th>valid_loss</th>\n",
              "      <th>accuracy</th>\n",
              "      <th>time</th>\n",
              "    </tr>\n",
              "  </thead>\n",
              "  <tbody>\n",
              "    <tr>\n",
              "      <td>0</td>\n",
              "      <td>1.053627</td>\n",
              "      <td>0.929377</td>\n",
              "      <td>0.722603</td>\n",
              "      <td>01:54</td>\n",
              "    </tr>\n",
              "    <tr>\n",
              "      <td>1</td>\n",
              "      <td>1.025459</td>\n",
              "      <td>2.214958</td>\n",
              "      <td>0.613014</td>\n",
              "      <td>01:50</td>\n",
              "    </tr>\n",
              "    <tr>\n",
              "      <td>2</td>\n",
              "      <td>0.906407</td>\n",
              "      <td>0.910887</td>\n",
              "      <td>0.773973</td>\n",
              "      <td>01:54</td>\n",
              "    </tr>\n",
              "    <tr>\n",
              "      <td>3</td>\n",
              "      <td>0.753774</td>\n",
              "      <td>0.872099</td>\n",
              "      <td>0.815068</td>\n",
              "      <td>01:50</td>\n",
              "    </tr>\n",
              "    <tr>\n",
              "      <td>4</td>\n",
              "      <td>0.672999</td>\n",
              "      <td>0.698962</td>\n",
              "      <td>0.784247</td>\n",
              "      <td>01:52</td>\n",
              "    </tr>\n",
              "    <tr>\n",
              "      <td>5</td>\n",
              "      <td>0.589701</td>\n",
              "      <td>0.650128</td>\n",
              "      <td>0.787671</td>\n",
              "      <td>01:53</td>\n",
              "    </tr>\n",
              "    <tr>\n",
              "      <td>6</td>\n",
              "      <td>0.484638</td>\n",
              "      <td>0.571635</td>\n",
              "      <td>0.845890</td>\n",
              "      <td>01:54</td>\n",
              "    </tr>\n",
              "    <tr>\n",
              "      <td>7</td>\n",
              "      <td>0.404793</td>\n",
              "      <td>0.531298</td>\n",
              "      <td>0.869863</td>\n",
              "      <td>01:54</td>\n",
              "    </tr>\n",
              "    <tr>\n",
              "      <td>8</td>\n",
              "      <td>0.324395</td>\n",
              "      <td>0.520559</td>\n",
              "      <td>0.876712</td>\n",
              "      <td>01:52</td>\n",
              "    </tr>\n",
              "    <tr>\n",
              "      <td>9</td>\n",
              "      <td>0.275423</td>\n",
              "      <td>0.521503</td>\n",
              "      <td>0.869863</td>\n",
              "      <td>01:51</td>\n",
              "    </tr>\n",
              "  </tbody>\n",
              "</table>"
            ],
            "text/plain": [
              "<IPython.core.display.HTML object>"
            ]
          },
          "metadata": {
            "tags": []
          }
        },
        {
          "output_type": "display_data",
          "data": {
            "text/html": [
              ""
            ],
            "text/plain": [
              "<IPython.core.display.HTML object>"
            ]
          },
          "metadata": {
            "tags": []
          }
        },
        {
          "output_type": "stream",
          "text": [
            "The validation accuracy is:  0.8755708\n"
          ],
          "name": "stdout"
        }
      ]
    },
    {
      "cell_type": "code",
      "metadata": {
        "id": "IeMPsASSCVZ5",
        "colab_type": "code",
        "outputId": "9191dd9b-df62-4d8b-ac57-530c78986bd1",
        "colab": {
          "base_uri": "https://localhost:8080/",
          "height": 17
        }
      },
      "source": [
        "#Prediction of the Test Set\n",
        "preds_test, y_test = learn.get_preds(DatasetType.Test)"
      ],
      "execution_count": 41,
      "outputs": [
        {
          "output_type": "display_data",
          "data": {
            "text/html": [
              ""
            ],
            "text/plain": [
              "<IPython.core.display.HTML object>"
            ]
          },
          "metadata": {
            "tags": []
          }
        }
      ]
    },
    {
      "cell_type": "code",
      "metadata": {
        "id": "GU6UdrJRSvm9",
        "colab_type": "code",
        "outputId": "0607eea9-b3ff-40dd-9985-66e7b4d68fff",
        "colab": {
          "base_uri": "https://localhost:8080/",
          "height": 203
        }
      },
      "source": [
        "submission = pd.DataFrame({'ID': [s.split('.')[0] for s in os.listdir('test/test')  if s.split('.')[1] != 'jfif']})\n",
        "for i, c in enumerate(learn.data.classes):\n",
        "  submission[c] = preds_test[:,i]\n",
        "submission = submission[['ID', 'leaf_rust', 'stem_rust', 'healthy_wheat']] # Get same order as sample sub\n",
        "submission.head()"
      ],
      "execution_count": 42,
      "outputs": [
        {
          "output_type": "execute_result",
          "data": {
            "text/html": [
              "<div>\n",
              "<style scoped>\n",
              "    .dataframe tbody tr th:only-of-type {\n",
              "        vertical-align: middle;\n",
              "    }\n",
              "\n",
              "    .dataframe tbody tr th {\n",
              "        vertical-align: top;\n",
              "    }\n",
              "\n",
              "    .dataframe thead th {\n",
              "        text-align: right;\n",
              "    }\n",
              "</style>\n",
              "<table border=\"1\" class=\"dataframe\">\n",
              "  <thead>\n",
              "    <tr style=\"text-align: right;\">\n",
              "      <th></th>\n",
              "      <th>ID</th>\n",
              "      <th>leaf_rust</th>\n",
              "      <th>stem_rust</th>\n",
              "      <th>healthy_wheat</th>\n",
              "    </tr>\n",
              "  </thead>\n",
              "  <tbody>\n",
              "    <tr>\n",
              "      <th>0</th>\n",
              "      <td>NGZ2X2</td>\n",
              "      <td>3.837716e-09</td>\n",
              "      <td>0.999812</td>\n",
              "      <td>1.878243e-04</td>\n",
              "    </tr>\n",
              "    <tr>\n",
              "      <th>1</th>\n",
              "      <td>AD54KD</td>\n",
              "      <td>1.313740e-04</td>\n",
              "      <td>0.997699</td>\n",
              "      <td>2.169824e-03</td>\n",
              "    </tr>\n",
              "    <tr>\n",
              "      <th>2</th>\n",
              "      <td>3UZ447</td>\n",
              "      <td>1.224209e-04</td>\n",
              "      <td>0.898686</td>\n",
              "      <td>1.011912e-01</td>\n",
              "    </tr>\n",
              "    <tr>\n",
              "      <th>3</th>\n",
              "      <td>NN5F6I</td>\n",
              "      <td>9.999516e-01</td>\n",
              "      <td>0.000024</td>\n",
              "      <td>2.450330e-05</td>\n",
              "    </tr>\n",
              "    <tr>\n",
              "      <th>4</th>\n",
              "      <td>LE4WVZ</td>\n",
              "      <td>9.998279e-01</td>\n",
              "      <td>0.000171</td>\n",
              "      <td>8.014900e-07</td>\n",
              "    </tr>\n",
              "  </tbody>\n",
              "</table>\n",
              "</div>"
            ],
            "text/plain": [
              "       ID     leaf_rust  stem_rust  healthy_wheat\n",
              "0  NGZ2X2  3.837716e-09   0.999812   1.878243e-04\n",
              "1  AD54KD  1.313740e-04   0.997699   2.169824e-03\n",
              "2  3UZ447  1.224209e-04   0.898686   1.011912e-01\n",
              "3  NN5F6I  9.999516e-01   0.000024   2.450330e-05\n",
              "4  LE4WVZ  9.998279e-01   0.000171   8.014900e-07"
            ]
          },
          "metadata": {
            "tags": []
          },
          "execution_count": 42
        }
      ]
    },
    {
      "cell_type": "code",
      "metadata": {
        "id": "NoUdBe8lTfG_",
        "colab_type": "code",
        "colab": {}
      },
      "source": [
        "submission.to_csv('submission4.csv', index = False)"
      ],
      "execution_count": 0,
      "outputs": []
    },
    {
      "cell_type": "code",
      "metadata": {
        "id": "GoRzdo5vyoqJ",
        "colab_type": "code",
        "colab": {}
      },
      "source": [
        ""
      ],
      "execution_count": 0,
      "outputs": []
    }
  ]
}